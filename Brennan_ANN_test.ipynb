{
 "cells": [
  {
   "cell_type": "code",
   "execution_count": 1,
   "source": [
    "import numpy as np\n",
    "import pandas as  pd\n",
    "from sklearn.model_selection import train_test_split\n",
    "from sklearn.ensemble import RandomForestClassifier\n",
    "import xgboost as xgb\n",
    "from catboost import CatBoostClassifier      \n",
    "from sklearn.ensemble import GradientBoostingClassifier\n",
    "from sklearn.model_selection import KFold\n",
    "import statistics\n",
    "import sklearn.metrics as metrics\n",
    "from sklearn.metrics import accuracy_score\n",
    "from sklearn.metrics import roc_curve,auc\n",
    "from sklearn.metrics import roc_auc_score"
   ],
   "outputs": [],
   "metadata": {}
  },
  {
   "cell_type": "code",
   "execution_count": 2,
   "source": [
    "import pandas as  pd\n",
    "bids_df= pd.read_csv('data/bids.csv')\n",
    "df_train= pd.read_csv('data/train.csv')\n",
    "test_df= pd.read_csv('data/test.csv')\n"
   ],
   "outputs": [],
   "metadata": {}
  },
  {
   "cell_type": "code",
   "execution_count": 3,
   "source": [
    "bids_unique= bids_df.groupby('bidder_id').nunique()\n",
    "bids_unique = bids_unique.drop([\"bid_id\"],axis = 1)"
   ],
   "outputs": [],
   "metadata": {}
  },
  {
   "cell_type": "code",
   "execution_count": 4,
   "source": [
    "join_result= df_train.merge(bids_unique, how= 'left', on = 'bidder_id')\n",
    "join_result.fillna(0,inplace = True)"
   ],
   "outputs": [],
   "metadata": {}
  },
  {
   "cell_type": "code",
   "execution_count": 5,
   "source": [
    "bids_df_count= bids_df.groupby(\"bidder_id\")\n",
    "counts= bids_df_count['url'].count().reset_index().rename(columns = {'url':'num_bids'})"
   ],
   "outputs": [],
   "metadata": {}
  },
  {
   "cell_type": "code",
   "execution_count": 110,
   "source": [
    "new_train= join_result.merge(counts, how= 'left')"
   ],
   "outputs": [],
   "metadata": {}
  },
  {
   "cell_type": "code",
   "execution_count": 111,
   "source": [
    "new_train.isnull().sum()\n"
   ],
   "outputs": [
    {
     "output_type": "execute_result",
     "data": {
      "text/plain": [
       "bidder_id           0\n",
       "payment_account     0\n",
       "address             0\n",
       "outcome             0\n",
       "auction             0\n",
       "merchandise         0\n",
       "device              0\n",
       "time                0\n",
       "country             0\n",
       "ip                  0\n",
       "url                 0\n",
       "num_bids           29\n",
       "dtype: int64"
      ]
     },
     "metadata": {},
     "execution_count": 111
    }
   ],
   "metadata": {}
  },
  {
   "cell_type": "code",
   "execution_count": 112,
   "source": [
    "new_train.dropna(inplace=True)"
   ],
   "outputs": [],
   "metadata": {}
  },
  {
   "cell_type": "code",
   "execution_count": 113,
   "source": [
    "\n",
    "new_train.drop(['bidder_id','payment_account','address'],axis=1,inplace = True)\n"
   ],
   "outputs": [],
   "metadata": {}
  },
  {
   "cell_type": "markdown",
   "source": [
    "EDA"
   ],
   "metadata": {}
  },
  {
   "cell_type": "code",
   "execution_count": 114,
   "source": [
    "import seaborn as sns\n",
    "sns.countplot(new_train['outcome'],label=\"Count\")"
   ],
   "outputs": [
    {
     "output_type": "stream",
     "name": "stderr",
     "text": [
      "/Users/brennanszeto/Environments/dsvenv/lib/python3.8/site-packages/seaborn/_decorators.py:36: FutureWarning: Pass the following variable as a keyword arg: x. From version 0.12, the only valid positional argument will be `data`, and passing other arguments without an explicit keyword will result in an error or misinterpretation.\n",
      "  warnings.warn(\n"
     ]
    },
    {
     "output_type": "execute_result",
     "data": {
      "text/plain": [
       "<AxesSubplot:xlabel='outcome', ylabel='count'>"
      ]
     },
     "metadata": {},
     "execution_count": 114
    },
    {
     "output_type": "display_data",
     "data": {
      "image/png": "[encoded data removed]",
      "text/plain": [
       "<Figure size 432x288 with 1 Axes>"
      ]
     },
     "metadata": {
      "needs_background": "light"
     }
    }
   ],
   "metadata": {}
  },
  {
   "cell_type": "code",
   "execution_count": 115,
   "source": [
    "new_train.corr()"
   ],
   "outputs": [
    {
     "output_type": "execute_result",
     "data": {
      "text/html": [
       "<div>\n",
       "<style scoped>\n",
       "    .dataframe tbody tr th:only-of-type {\n",
       "        vertical-align: middle;\n",
       "    }\n",
       "\n",
       "    .dataframe tbody tr th {\n",
       "        vertical-align: top;\n",
       "    }\n",
       "\n",
       "    .dataframe thead th {\n",
       "        text-align: right;\n",
       "    }\n",
       "</style>\n",
       "<table border=\"1\" class=\"dataframe\">\n",
       "  <thead>\n",
       "    <tr style=\"text-align: right;\">\n",
       "      <th></th>\n",
       "      <th>outcome</th>\n",
       "      <th>auction</th>\n",
       "      <th>merchandise</th>\n",
       "      <th>device</th>\n",
       "      <th>time</th>\n",
       "      <th>country</th>\n",
       "      <th>ip</th>\n",
       "      <th>url</th>\n",
       "      <th>num_bids</th>\n",
       "    </tr>\n",
       "  </thead>\n",
       "  <tbody>\n",
       "    <tr>\n",
       "      <th>outcome</th>\n",
       "      <td>1.000000</td>\n",
       "      <td>0.131014</td>\n",
       "      <td>-0.005255</td>\n",
       "      <td>0.105990</td>\n",
       "      <td>0.057541</td>\n",
       "      <td>0.130027</td>\n",
       "      <td>0.083686</td>\n",
       "      <td>0.017358</td>\n",
       "      <td>0.039103</td>\n",
       "    </tr>\n",
       "    <tr>\n",
       "      <th>auction</th>\n",
       "      <td>0.131014</td>\n",
       "      <td>1.000000</td>\n",
       "      <td>0.121288</td>\n",
       "      <td>0.904272</td>\n",
       "      <td>0.598344</td>\n",
       "      <td>0.821531</td>\n",
       "      <td>0.584278</td>\n",
       "      <td>0.572812</td>\n",
       "      <td>0.503148</td>\n",
       "    </tr>\n",
       "    <tr>\n",
       "      <th>merchandise</th>\n",
       "      <td>-0.005255</td>\n",
       "      <td>0.121288</td>\n",
       "      <td>1.000000</td>\n",
       "      <td>0.082965</td>\n",
       "      <td>0.045682</td>\n",
       "      <td>0.075424</td>\n",
       "      <td>0.057622</td>\n",
       "      <td>0.049119</td>\n",
       "      <td>0.030641</td>\n",
       "    </tr>\n",
       "    <tr>\n",
       "      <th>device</th>\n",
       "      <td>0.105990</td>\n",
       "      <td>0.904272</td>\n",
       "      <td>0.082965</td>\n",
       "      <td>1.000000</td>\n",
       "      <td>0.707228</td>\n",
       "      <td>0.838619</td>\n",
       "      <td>0.663759</td>\n",
       "      <td>0.687681</td>\n",
       "      <td>0.629752</td>\n",
       "    </tr>\n",
       "    <tr>\n",
       "      <th>time</th>\n",
       "      <td>0.057541</td>\n",
       "      <td>0.598344</td>\n",
       "      <td>0.045682</td>\n",
       "      <td>0.707228</td>\n",
       "      <td>1.000000</td>\n",
       "      <td>0.438429</td>\n",
       "      <td>0.945592</td>\n",
       "      <td>0.900077</td>\n",
       "      <td>0.979416</td>\n",
       "    </tr>\n",
       "    <tr>\n",
       "      <th>country</th>\n",
       "      <td>0.130027</td>\n",
       "      <td>0.821531</td>\n",
       "      <td>0.075424</td>\n",
       "      <td>0.838619</td>\n",
       "      <td>0.438429</td>\n",
       "      <td>1.000000</td>\n",
       "      <td>0.468465</td>\n",
       "      <td>0.394982</td>\n",
       "      <td>0.349503</td>\n",
       "    </tr>\n",
       "    <tr>\n",
       "      <th>ip</th>\n",
       "      <td>0.083686</td>\n",
       "      <td>0.584278</td>\n",
       "      <td>0.057622</td>\n",
       "      <td>0.663759</td>\n",
       "      <td>0.945592</td>\n",
       "      <td>0.468465</td>\n",
       "      <td>1.000000</td>\n",
       "      <td>0.776280</td>\n",
       "      <td>0.887196</td>\n",
       "    </tr>\n",
       "    <tr>\n",
       "      <th>url</th>\n",
       "      <td>0.017358</td>\n",
       "      <td>0.572812</td>\n",
       "      <td>0.049119</td>\n",
       "      <td>0.687681</td>\n",
       "      <td>0.900077</td>\n",
       "      <td>0.394982</td>\n",
       "      <td>0.776280</td>\n",
       "      <td>1.000000</td>\n",
       "      <td>0.908388</td>\n",
       "    </tr>\n",
       "    <tr>\n",
       "      <th>num_bids</th>\n",
       "      <td>0.039103</td>\n",
       "      <td>0.503148</td>\n",
       "      <td>0.030641</td>\n",
       "      <td>0.629752</td>\n",
       "      <td>0.979416</td>\n",
       "      <td>0.349503</td>\n",
       "      <td>0.887196</td>\n",
       "      <td>0.908388</td>\n",
       "      <td>1.000000</td>\n",
       "    </tr>\n",
       "  </tbody>\n",
       "</table>\n",
       "</div>"
      ],
      "text/plain": [
       "              outcome   auction  merchandise    device      time   country  \\\n",
       "outcome      1.000000  0.131014    -0.005255  0.105990  0.057541  0.130027   \n",
       "auction      0.131014  1.000000     0.121288  0.904272  0.598344  0.821531   \n",
       "merchandise -0.005255  0.121288     1.000000  0.082965  0.045682  0.075424   \n",
       "device       0.105990  0.904272     0.082965  1.000000  0.707228  0.838619   \n",
       "time         0.057541  0.598344     0.045682  0.707228  1.000000  0.438429   \n",
       "country      0.130027  0.821531     0.075424  0.838619  0.438429  1.000000   \n",
       "ip           0.083686  0.584278     0.057622  0.663759  0.945592  0.468465   \n",
       "url          0.017358  0.572812     0.049119  0.687681  0.900077  0.394982   \n",
       "num_bids     0.039103  0.503148     0.030641  0.629752  0.979416  0.349503   \n",
       "\n",
       "                   ip       url  num_bids  \n",
       "outcome      0.083686  0.017358  0.039103  \n",
       "auction      0.584278  0.572812  0.503148  \n",
       "merchandise  0.057622  0.049119  0.030641  \n",
       "device       0.663759  0.687681  0.629752  \n",
       "time         0.945592  0.900077  0.979416  \n",
       "country      0.468465  0.394982  0.349503  \n",
       "ip           1.000000  0.776280  0.887196  \n",
       "url          0.776280  1.000000  0.908388  \n",
       "num_bids     0.887196  0.908388  1.000000  "
      ]
     },
     "metadata": {},
     "execution_count": 115
    }
   ],
   "metadata": {}
  },
  {
   "cell_type": "code",
   "execution_count": 117,
   "source": [
    "import matplotlib.pyplot as plt\n",
    "corr = new_train.iloc[:,:].corr()\n",
    "colormap = sns.diverging_palette(220, 10, as_cmap = True)\n",
    "plt.figure(figsize=(14,14))\n",
    "sns.heatmap(corr, cbar = True,  square = True, annot=True, fmt= '.2f',annot_kws={'size': 12},\n",
    "            cmap = colormap, linewidths=0.1, linecolor='white')\n",
    "plt.title('Correlation of new_train Features', y=1.05, size=15)"
   ],
   "outputs": [
    {
     "output_type": "execute_result",
     "data": {
      "text/plain": [
       "Text(0.5, 1.05, 'Correlation of new_train Features')"
      ]
     },
     "metadata": {},
     "execution_count": 117
    },
    {
     "output_type": "display_data",
     "data": {
      "image/png": "[encoded data removed]",
      "text/plain": [
       "<Figure size 1008x1008 with 2 Axes>"
      ]
     },
     "metadata": {
      "needs_background": "light"
     }
    }
   ],
   "metadata": {
    "scrolled": true
   }
  },
  {
   "cell_type": "markdown",
   "source": [
    "Preprocessing"
   ],
   "metadata": {}
  },
  {
   "cell_type": "code",
   "execution_count": 118,
   "source": [
    "#one hot encode on merchandise\n",
    "from sklearn.preprocessing import OneHotEncoder\n",
    "# x=  new_train.merchandise\n",
    "one_hot = pd.get_dummies(new_train['merchandise'])\n",
    "new_train.drop('merchandise',axis=1,inplace= True)\n",
    "new_train= new_train.join(one_hot)\n",
    "new_train = new_train.rename(columns={1.0:'merchandise=1.0',2.0:'merchandise=2.0'})\n",
    "new_train"
   ],
   "outputs": [
    {
     "output_type": "execute_result",
     "data": {
      "text/html": [
       "<div>\n",
       "<style scoped>\n",
       "    .dataframe tbody tr th:only-of-type {\n",
       "        vertical-align: middle;\n",
       "    }\n",
       "\n",
       "    .dataframe tbody tr th {\n",
       "        vertical-align: top;\n",
       "    }\n",
       "\n",
       "    .dataframe thead th {\n",
       "        text-align: right;\n",
       "    }\n",
       "</style>\n",
       "<table border=\"1\" class=\"dataframe\">\n",
       "  <thead>\n",
       "    <tr style=\"text-align: right;\">\n",
       "      <th></th>\n",
       "      <th>outcome</th>\n",
       "      <th>auction</th>\n",
       "      <th>device</th>\n",
       "      <th>time</th>\n",
       "      <th>country</th>\n",
       "      <th>ip</th>\n",
       "      <th>url</th>\n",
       "      <th>num_bids</th>\n",
       "      <th>merchandise=1.0</th>\n",
       "      <th>merchandise=2.0</th>\n",
       "    </tr>\n",
       "  </thead>\n",
       "  <tbody>\n",
       "    <tr>\n",
       "      <th>0</th>\n",
       "      <td>0.0</td>\n",
       "      <td>18.0</td>\n",
       "      <td>14.0</td>\n",
       "      <td>24.0</td>\n",
       "      <td>6.0</td>\n",
       "      <td>20.0</td>\n",
       "      <td>1.0</td>\n",
       "      <td>24.0</td>\n",
       "      <td>1</td>\n",
       "      <td>0</td>\n",
       "    </tr>\n",
       "    <tr>\n",
       "      <th>1</th>\n",
       "      <td>0.0</td>\n",
       "      <td>1.0</td>\n",
       "      <td>2.0</td>\n",
       "      <td>3.0</td>\n",
       "      <td>1.0</td>\n",
       "      <td>3.0</td>\n",
       "      <td>2.0</td>\n",
       "      <td>3.0</td>\n",
       "      <td>1</td>\n",
       "      <td>0</td>\n",
       "    </tr>\n",
       "    <tr>\n",
       "      <th>2</th>\n",
       "      <td>0.0</td>\n",
       "      <td>4.0</td>\n",
       "      <td>2.0</td>\n",
       "      <td>4.0</td>\n",
       "      <td>1.0</td>\n",
       "      <td>4.0</td>\n",
       "      <td>2.0</td>\n",
       "      <td>4.0</td>\n",
       "      <td>1</td>\n",
       "      <td>0</td>\n",
       "    </tr>\n",
       "    <tr>\n",
       "      <th>3</th>\n",
       "      <td>0.0</td>\n",
       "      <td>1.0</td>\n",
       "      <td>1.0</td>\n",
       "      <td>1.0</td>\n",
       "      <td>1.0</td>\n",
       "      <td>1.0</td>\n",
       "      <td>1.0</td>\n",
       "      <td>1.0</td>\n",
       "      <td>1</td>\n",
       "      <td>0</td>\n",
       "    </tr>\n",
       "    <tr>\n",
       "      <th>4</th>\n",
       "      <td>0.0</td>\n",
       "      <td>23.0</td>\n",
       "      <td>53.0</td>\n",
       "      <td>155.0</td>\n",
       "      <td>2.0</td>\n",
       "      <td>123.0</td>\n",
       "      <td>91.0</td>\n",
       "      <td>155.0</td>\n",
       "      <td>1</td>\n",
       "      <td>0</td>\n",
       "    </tr>\n",
       "    <tr>\n",
       "      <th>...</th>\n",
       "      <td>...</td>\n",
       "      <td>...</td>\n",
       "      <td>...</td>\n",
       "      <td>...</td>\n",
       "      <td>...</td>\n",
       "      <td>...</td>\n",
       "      <td>...</td>\n",
       "      <td>...</td>\n",
       "      <td>...</td>\n",
       "      <td>...</td>\n",
       "    </tr>\n",
       "    <tr>\n",
       "      <th>2008</th>\n",
       "      <td>0.0</td>\n",
       "      <td>25.0</td>\n",
       "      <td>4.0</td>\n",
       "      <td>33.0</td>\n",
       "      <td>4.0</td>\n",
       "      <td>5.0</td>\n",
       "      <td>2.0</td>\n",
       "      <td>36.0</td>\n",
       "      <td>1</td>\n",
       "      <td>0</td>\n",
       "    </tr>\n",
       "    <tr>\n",
       "      <th>2009</th>\n",
       "      <td>0.0</td>\n",
       "      <td>1.0</td>\n",
       "      <td>1.0</td>\n",
       "      <td>1.0</td>\n",
       "      <td>1.0</td>\n",
       "      <td>1.0</td>\n",
       "      <td>1.0</td>\n",
       "      <td>1.0</td>\n",
       "      <td>1</td>\n",
       "      <td>0</td>\n",
       "    </tr>\n",
       "    <tr>\n",
       "      <th>2010</th>\n",
       "      <td>0.0</td>\n",
       "      <td>1.0</td>\n",
       "      <td>2.0</td>\n",
       "      <td>2.0</td>\n",
       "      <td>1.0</td>\n",
       "      <td>2.0</td>\n",
       "      <td>1.0</td>\n",
       "      <td>2.0</td>\n",
       "      <td>1</td>\n",
       "      <td>0</td>\n",
       "    </tr>\n",
       "    <tr>\n",
       "      <th>2011</th>\n",
       "      <td>0.0</td>\n",
       "      <td>1.0</td>\n",
       "      <td>1.0</td>\n",
       "      <td>1.0</td>\n",
       "      <td>1.0</td>\n",
       "      <td>1.0</td>\n",
       "      <td>1.0</td>\n",
       "      <td>1.0</td>\n",
       "      <td>1</td>\n",
       "      <td>0</td>\n",
       "    </tr>\n",
       "    <tr>\n",
       "      <th>2012</th>\n",
       "      <td>0.0</td>\n",
       "      <td>1.0</td>\n",
       "      <td>1.0</td>\n",
       "      <td>2.0</td>\n",
       "      <td>1.0</td>\n",
       "      <td>1.0</td>\n",
       "      <td>1.0</td>\n",
       "      <td>2.0</td>\n",
       "      <td>1</td>\n",
       "      <td>0</td>\n",
       "    </tr>\n",
       "  </tbody>\n",
       "</table>\n",
       "<p>1984 rows × 10 columns</p>\n",
       "</div>"
      ],
      "text/plain": [
       "      outcome  auction  device   time  country     ip   url  num_bids  \\\n",
       "0         0.0     18.0    14.0   24.0      6.0   20.0   1.0      24.0   \n",
       "1         0.0      1.0     2.0    3.0      1.0    3.0   2.0       3.0   \n",
       "2         0.0      4.0     2.0    4.0      1.0    4.0   2.0       4.0   \n",
       "3         0.0      1.0     1.0    1.0      1.0    1.0   1.0       1.0   \n",
       "4         0.0     23.0    53.0  155.0      2.0  123.0  91.0     155.0   \n",
       "...       ...      ...     ...    ...      ...    ...   ...       ...   \n",
       "2008      0.0     25.0     4.0   33.0      4.0    5.0   2.0      36.0   \n",
       "2009      0.0      1.0     1.0    1.0      1.0    1.0   1.0       1.0   \n",
       "2010      0.0      1.0     2.0    2.0      1.0    2.0   1.0       2.0   \n",
       "2011      0.0      1.0     1.0    1.0      1.0    1.0   1.0       1.0   \n",
       "2012      0.0      1.0     1.0    2.0      1.0    1.0   1.0       2.0   \n",
       "\n",
       "      merchandise=1.0  merchandise=2.0  \n",
       "0                   1                0  \n",
       "1                   1                0  \n",
       "2                   1                0  \n",
       "3                   1                0  \n",
       "4                   1                0  \n",
       "...               ...              ...  \n",
       "2008                1                0  \n",
       "2009                1                0  \n",
       "2010                1                0  \n",
       "2011                1                0  \n",
       "2012                1                0  \n",
       "\n",
       "[1984 rows x 10 columns]"
      ]
     },
     "metadata": {},
     "execution_count": 118
    }
   ],
   "metadata": {}
  },
  {
   "cell_type": "code",
   "execution_count": 122,
   "source": [
    "X=new_train.drop('outcome',axis =1)\n",
    "y= new_train['outcome']\n",
    "X_train, X_test, y_train, y_test = train_test_split(X, y, test_size=0.20, random_state=40)\n"
   ],
   "outputs": [],
   "metadata": {}
  },
  {
   "cell_type": "code",
   "execution_count": 123,
   "source": [
    "from sklearn.preprocessing import StandardScaler\n",
    "sc = StandardScaler()\n",
    "X_train = sc.fit_transform(X_train)\n",
    "X_test = sc.transform(X_test)"
   ],
   "outputs": [],
   "metadata": {}
  },
  {
   "cell_type": "code",
   "execution_count": 126,
   "source": [
    "import keras\n",
    "from keras.models import Sequential\n",
    "from keras.layers import Dense"
   ],
   "outputs": [],
   "metadata": {}
  },
  {
   "cell_type": "code",
   "execution_count": 135,
   "source": [
    "classifier = Sequential()\n",
    "classifier.add(Dense(6,activation = 'relu'))\n",
    "classifier.add(Dense(6, activation = 'relu'))\n",
    "classifier.add(Dense(1, activation = 'sigmoid'))\n",
    "classifier.compile(optimizer = 'adam', loss = 'binary_crossentropy', metrics = ['accuracy'])"
   ],
   "outputs": [],
   "metadata": {}
  },
  {
   "cell_type": "code",
   "execution_count": 136,
   "source": [
    "classifier.fit(X_train, y_train, batch_size = 10, epochs = 10)"
   ],
   "outputs": [
    {
     "output_type": "stream",
     "name": "stdout",
     "text": [
      "Epoch 1/10\n",
      "159/159 [==============================] - 17s 680us/step - loss: 0.5950 - accuracy: 0.9448\n",
      "Epoch 2/10\n",
      "159/159 [==============================] - 0s 630us/step - loss: 0.2589 - accuracy: 0.9573\n",
      "Epoch 3/10\n",
      "159/159 [==============================] - 0s 654us/step - loss: 0.2015 - accuracy: 0.9422\n",
      "Epoch 4/10\n",
      "159/159 [==============================] - 0s 571us/step - loss: 0.1975 - accuracy: 0.9459\n",
      "Epoch 5/10\n",
      "159/159 [==============================] - 0s 598us/step - loss: 0.2003 - accuracy: 0.9440\n",
      "Epoch 6/10\n",
      "159/159 [==============================] - 0s 650us/step - loss: 0.2007 - accuracy: 0.9414\n",
      "Epoch 7/10\n",
      "159/159 [==============================] - 0s 647us/step - loss: 0.1924 - accuracy: 0.9442\n",
      "Epoch 8/10\n",
      "159/159 [==============================] - 0s 576us/step - loss: 0.1814 - accuracy: 0.9477\n",
      "Epoch 9/10\n",
      "159/159 [==============================] - 0s 642us/step - loss: 0.2014 - accuracy: 0.9411\n",
      "Epoch 10/10\n",
      "159/159 [==============================] - 0s 593us/step - loss: 0.1811 - accuracy: 0.9462\n"
     ]
    },
    {
     "output_type": "execute_result",
     "data": {
      "text/plain": [
       "<keras.callbacks.History at 0x15dfb0a60>"
      ]
     },
     "metadata": {},
     "execution_count": 136
    }
   ],
   "metadata": {}
  },
  {
   "cell_type": "code",
   "execution_count": null,
   "source": [
    "y_pred = classifier.predict(X_test)\n",
    "roc_auc_score(y_test,y_pred)"
   ],
   "outputs": [],
   "metadata": {}
  },
  {
   "cell_type": "code",
   "execution_count": null,
   "source": [],
   "outputs": [],
   "metadata": {}
  }
 ],
 "metadata": {
  "kernelspec": {
   "display_name": "Python 3",
   "language": "python",
   "name": "python3"
  },
  "language_info": {
   "codemirror_mode": {
    "name": "ipython",
    "version": 3
   },
   "file_extension": ".py",
   "mimetype": "text/x-python",
   "name": "python",
   "nbconvert_exporter": "python",
   "pygments_lexer": "ipython3",
   "version": "3.8.3"
  }
 },
 "nbformat": 4,
 "nbformat_minor": 4
}