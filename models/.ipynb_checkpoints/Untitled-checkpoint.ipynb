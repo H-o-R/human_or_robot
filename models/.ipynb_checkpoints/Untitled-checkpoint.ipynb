{
 "cells": [
  {
   "cell_type": "code",
   "execution_count": 2,
   "metadata": {},
   "outputs": [],
   "source": [
    "import pandas as pd"
   ]
  },
  {
   "cell_type": "code",
   "execution_count": 3,
   "metadata": {},
   "outputs": [],
   "source": [
    "dt_sorted = pd.read_csv(\"dt_sorted\").reset_index()\n",
    "rf_sorted = pd.read_csv(\"rf_sorted\").reset_index()\n",
    "xgb_sorted = pd.read_csv(\"xgb_sorted\").reset_index()"
   ]
  },
  {
   "cell_type": "code",
   "execution_count": 4,
   "metadata": {},
   "outputs": [],
   "source": [
    "dt_sorted.rename(columns={\"index\": \"dt_rank\", \"features_weights\": \"dt_weights\"}, inplace=True)\n",
    "rf_sorted.rename(columns={\"index\": \"rf_rank\", \"features_weights\": \"rf_weights\"}, inplace=True)\n",
    "xgb_sorted.rename(columns={\"index\": \"xgb_rank\", \"features_weights\": \"xgb_weights\"}, inplace=True)"
   ]
  },
  {
   "cell_type": "code",
   "execution_count": 5,
   "metadata": {},
   "outputs": [],
   "source": [
    "df = dt_sorted.merge(rf_sorted, how= 'left',on='features')\n",
    "df = df.merge(xgb_sorted, how= 'left',on='features')\n",
    "# df.rename(columns={\"features_weights_x\": \"dt_weights\", \"features_weights_y\": \"rf_weights\", \"features_weights\": \"xgb_weights\"}, inplace=True)"
   ]
  },
  {
   "cell_type": "code",
   "execution_count": 6,
   "metadata": {},
   "outputs": [],
   "source": [
    "df['final_rank'] = df['dt_rank'] + df['rf_rank'] + df['xgb_rank']\n",
    "df['weighted_final_rank'] = (df['dt_rank'] + df['rf_rank'] +  df['xgb_rank']) / (df['dt_weights'] + df['rf_weights'] + df['xgb_weights'])"
   ]
  },
  {
   "cell_type": "code",
   "execution_count": 21,
   "metadata": {},
   "outputs": [
    {
     "name": "stdout",
     "output_type": "stream",
     "text": [
      "10 Features\n",
      "['num_bids_per_device', 'percentage_of_auctions_above_threshold', 'time_to_bid', 'num_bids_per_ip', 'on_url_that_has_a_bot_mean', 'num_bids_per_country', 'auction', 'max_devices_per_auction', 'num_last_bids', 'mobile']\n",
      "\n",
      "15 Features\n",
      "['num_bids_per_device', 'percentage_of_auctions_above_threshold', 'time_to_bid', 'num_bids_per_ip', 'on_url_that_has_a_bot_mean', 'num_bids_per_country', 'auction', 'max_devices_per_auction', 'num_last_bids', 'mobile', 'no_of_auction_exceeds_threshold', 'num_first_bids', 'ip', 'url', 'jewelry']\n",
      "\n",
      "20 Features\n",
      "['num_bids_per_device', 'percentage_of_auctions_above_threshold', 'time_to_bid', 'num_bids_per_ip', 'on_url_that_has_a_bot_mean', 'num_bids_per_country', 'auction', 'max_devices_per_auction', 'num_last_bids', 'mobile', 'no_of_auction_exceeds_threshold', 'num_first_bids', 'ip', 'url', 'jewelry', 'num_bids_per_auction', 'max_ip_per_auction', 'inst_resp', 'computers', 'url_entropy']\n",
      "\n",
      "25 Features\n",
      "['num_bids_per_device', 'percentage_of_auctions_above_threshold', 'time_to_bid', 'num_bids_per_ip', 'on_url_that_has_a_bot_mean', 'num_bids_per_country', 'auction', 'max_devices_per_auction', 'num_last_bids', 'mobile', 'no_of_auction_exceeds_threshold', 'num_first_bids', 'ip', 'url', 'jewelry', 'num_bids_per_auction', 'max_ip_per_auction', 'inst_resp', 'computers', 'url_entropy', 'on_ip_that_has_a_bot_mean', 'device', 'home goods', 'time', 'std_url_per_auction']\n",
      "\n",
      "30 Features\n",
      "['num_bids_per_device', 'percentage_of_auctions_above_threshold', 'time_to_bid', 'num_bids_per_ip', 'on_url_that_has_a_bot_mean', 'num_bids_per_country', 'auction', 'max_devices_per_auction', 'num_last_bids', 'mobile', 'no_of_auction_exceeds_threshold', 'num_first_bids', 'ip', 'url', 'jewelry', 'num_bids_per_auction', 'max_ip_per_auction', 'inst_resp', 'computers', 'url_entropy', 'on_ip_that_has_a_bot_mean', 'device', 'home goods', 'time', 'std_url_per_auction', 'country', 'sporting goods', 'num_bids', 'perc_inst_resp', 'max_country_per_auction']\n",
      "\n",
      "35 Features\n",
      "['num_bids_per_device', 'percentage_of_auctions_above_threshold', 'time_to_bid', 'num_bids_per_ip', 'on_url_that_has_a_bot_mean', 'num_bids_per_country', 'auction', 'max_devices_per_auction', 'num_last_bids', 'mobile', 'no_of_auction_exceeds_threshold', 'num_first_bids', 'ip', 'url', 'jewelry', 'num_bids_per_auction', 'max_ip_per_auction', 'inst_resp', 'computers', 'url_entropy', 'on_ip_that_has_a_bot_mean', 'device', 'home goods', 'time', 'std_url_per_auction', 'country', 'sporting goods', 'num_bids', 'perc_inst_resp', 'max_country_per_auction', 'mean_ip_per_auction', 'std_devices_per_auction', 'max_url_per_auction', 'std_ip_per_auction', 'mean_devices_per_auction']\n",
      "\n",
      "40 Features\n",
      "['num_bids_per_device', 'percentage_of_auctions_above_threshold', 'time_to_bid', 'num_bids_per_ip', 'on_url_that_has_a_bot_mean', 'num_bids_per_country', 'auction', 'max_devices_per_auction', 'num_last_bids', 'mobile', 'no_of_auction_exceeds_threshold', 'num_first_bids', 'ip', 'url', 'jewelry', 'num_bids_per_auction', 'max_ip_per_auction', 'inst_resp', 'computers', 'url_entropy', 'on_ip_that_has_a_bot_mean', 'device', 'home goods', 'time', 'std_url_per_auction', 'country', 'sporting goods', 'num_bids', 'perc_inst_resp', 'max_country_per_auction', 'mean_ip_per_auction', 'std_devices_per_auction', 'max_url_per_auction', 'std_ip_per_auction', 'mean_devices_per_auction', 'mean_url_per_auction', 'total_no_of_participated_auctions', 'std_country_per_auction', 'ip_entropy', 'mean_country_per_auction']\n"
     ]
    }
   ],
   "source": [
    "final_rank_df_10 = df.sort_values(by=['final_rank']).head(10)\n",
    "final_rank_df_15 = df.sort_values(by=['final_rank']).head(15)\n",
    "final_rank_df_20 = df.sort_values(by=['final_rank']).head(20)\n",
    "final_rank_df_25 = df.sort_values(by=['final_rank']).head(25)\n",
    "final_rank_df_30 = df.sort_values(by=['final_rank']).head(30)\n",
    "final_rank_df_35 = df.sort_values(by=['final_rank']).head(35)\n",
    "final_rank_df_40 = df.sort_values(by=['final_rank']).head(40)\n",
    "# final_rank_df\n",
    "final_rank_list_10 = final_rank_df_10['features'].to_list()\n",
    "final_rank_list_15 = final_rank_df_15['features'].to_list()\n",
    "final_rank_list_20 = final_rank_df_20['features'].to_list()\n",
    "final_rank_list_25 = final_rank_df_25['features'].to_list()\n",
    "final_rank_list_30 = final_rank_df_30['features'].to_list()\n",
    "final_rank_list_35 = final_rank_df_35['features'].to_list()\n",
    "final_rank_list_40 = final_rank_df_40['features'].to_list()\n",
    "\n",
    "print(\"10 Features\")\n",
    "print(final_rank_list_10)\n",
    "print(\"\")\n",
    "print(\"15 Features\")\n",
    "print(final_rank_list_15)\n",
    "print(\"\")\n",
    "print(\"20 Features\")\n",
    "print(final_rank_list_20)\n",
    "print(\"\")\n",
    "print(\"25 Features\")\n",
    "print(final_rank_list_25)\n",
    "print(\"\")\n",
    "print(\"30 Features\")\n",
    "print(final_rank_list_30)\n",
    "print(\"\")\n",
    "print(\"35 Features\")\n",
    "print(final_rank_list_35)\n",
    "print(\"\")\n",
    "print(\"40 Features\")\n",
    "print(final_rank_list_40)"
   ]
  },
  {
   "cell_type": "code",
   "execution_count": 12,
   "metadata": {},
   "outputs": [
    {
     "data": {
      "text/plain": [
       "['num_bids_per_device',\n",
       " 'percentage_of_auctions_above_threshold',\n",
       " 'time_to_bid',\n",
       " 'num_bids_per_country',\n",
       " 'num_bids_per_ip',\n",
       " 'on_url_that_has_a_bot_mean',\n",
       " 'no_of_auction_exceeds_threshold',\n",
       " 'max_devices_per_auction',\n",
       " 'auction',\n",
       " 'num_last_bids',\n",
       " 'inst_resp',\n",
       " 'num_bids_per_auction',\n",
       " 'mobile',\n",
       " 'computers',\n",
       " 'num_first_bids',\n",
       " 'jewelry',\n",
       " 'ip',\n",
       " 'url',\n",
       " 'num_bids',\n",
       " 'perc_inst_resp',\n",
       " 'max_ip_per_auction']"
      ]
     },
     "execution_count": 12,
     "metadata": {},
     "output_type": "execute_result"
    }
   ],
   "source": [
    "final_weighted_rank_df = df.sort_values(by=['weighted_final_rank']).head(21)\n",
    "# final_weighted_rank_df\n",
    "final_weighted_rank_df['features'].to_list()"
   ]
  },
  {
   "cell_type": "code",
   "execution_count": null,
   "metadata": {},
   "outputs": [],
   "source": []
  },
  {
   "cell_type": "code",
   "execution_count": null,
   "metadata": {},
   "outputs": [],
   "source": [
    "# # trying selectkbest\n",
    "# selector = SelectKBest(mutual_info_regression, k = 20)\n",
    "# selector.fit(X,y)\n",
    "# selectkbest_support = selector.get_support()"
   ]
  },
  {
   "cell_type": "code",
   "execution_count": null,
   "metadata": {},
   "outputs": [],
   "source": [
    "# # trying rfe\n",
    "# rfe_random_forest = RFE(estimator=RandomForestClassifier(), n_features_to_select = 20, step = 1)\n",
    "# rfe_random_forest.fit(X,y)\n",
    "# rfe_random_forest_support = rfe_random_forest.get_support()\n",
    "\n",
    "# rfe_xgb = RFE(estimator=XGBClassifier(), n_features_to_select = 20, step = 1)\n",
    "# rfe_xgb.fit(X,y)\n",
    "# rfe_xgb_support = rfe_xgb.get_support()\n",
    "\n",
    "# rfe_gb = RFE(estimator=GradientBoostingClassifier(), n_features_to_select = 20, step = 1)\n",
    "# rfe_gb.fit(X,y)\n",
    "# rfe_gb_support = rfe_gb.get_support()\n",
    "\n",
    "# rfe_logistic = RFE(estimator=LogisticRegression(), n_features_to_select = 20, step = 1)\n",
    "# rfe_logistic.fit(X,y)\n",
    "# rfe_logistic_support = rfe_logistic.get_support()"
   ]
  },
  {
   "cell_type": "code",
   "execution_count": null,
   "metadata": {},
   "outputs": [],
   "source": [
    "# # trying selectfrommodel\n",
    "# sfm_random_forest = SelectFromModel(RandomForestClassifier(n_estimators=100), max_features=20)\n",
    "# sfm_random_forest.fit(X,y)\n",
    "# sfm_random_forest_support = sfm_random_forest.get_support()\n",
    "\n",
    "# sfm_xgb = SelectFromModel(XGBClassifier(), max_features=20)\n",
    "# sfm_xgb.fit(X,y)\n",
    "# sfm_xgb_support = sfm_xgb.get_support()\n",
    "\n",
    "# sfm_gb = SelectFromModel(GradientBoostingClassifier(n_estimators=100), max_features=20)\n",
    "# sfm_gb.fit(X,y)\n",
    "# sfm_gb_support = sfm_gb.get_support()\n",
    "\n",
    "# # sfm_logistic = SelectFromModel(LogisticRegression(), max_features=20)\n",
    "# # sfm_logistic.fit(X,y)\n",
    "# # sfm_logistic_support = sfm_logistic.get_support()"
   ]
  },
  {
   "cell_type": "code",
   "execution_count": null,
   "metadata": {},
   "outputs": [],
   "source": [
    "# # https://towardsdatascience.com/the-5-feature-selection-algorithms-every-data-scientist-need-to-know-3a6b566efd2\n",
    "# feature_selection_df = pd.DataFrame({'Feature':X.columns, 'SelectKBest':selectkbest_support, \n",
    "#                                      'RFE Random Forest':rfe_random_forest_support, \n",
    "#                                      'RFE XGB':rfe_xgb_support, 'RFE GB':rfe_gb_support,\n",
    "#                                      'RFE Logistic Regression':rfe_logistic_support, \n",
    "#                                      'SFM Random Forest':sfm_random_forest_support, 'SFM XGB':sfm_xgb_support,\n",
    "#                                      'SFM GB':sfm_gb_support})\n",
    "# # count the selected times for each feature\n",
    "# feature_selection_df['Total'] = np.sum(feature_selection_df, axis=1)\n",
    "# # display the top 100\n",
    "# feature_selection_df = feature_selection_df.sort_values(['Total','Feature'] , ascending=False)\n",
    "# feature_selection_df.index = range(1, len(feature_selection_df)+1)\n",
    "# # feature_selection_df.head(num_feats)\n",
    "# feature_selection_df"
   ]
  }
 ],
 "metadata": {
  "kernelspec": {
   "display_name": "Python 3",
   "language": "python",
   "name": "python3"
  },
  "language_info": {
   "codemirror_mode": {
    "name": "ipython",
    "version": 3
   },
   "file_extension": ".py",
   "mimetype": "text/x-python",
   "name": "python",
   "nbconvert_exporter": "python",
   "pygments_lexer": "ipython3",
   "version": "3.8.3"
  }
 },
 "nbformat": 4,
 "nbformat_minor": 4
}
