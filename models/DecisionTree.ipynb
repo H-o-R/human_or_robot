{
 "cells": [
  {
   "cell_type": "code",
   "execution_count": 1,
   "id": "acting-thread",
   "metadata": {},
   "outputs": [],
   "source": [
    "from sklearn.tree import DecisionTreeClassifier\n",
    "from sklearn.model_selection import StratifiedKFold"
   ]
  },
  {
   "cell_type": "code",
   "execution_count": 2,
   "id": "variable-rubber",
   "metadata": {},
   "outputs": [],
   "source": [
    "import pandas as pd\n",
    "import sklearn\n",
    "from imblearn.over_sampling import SMOTE\n",
    "from sklearn.model_selection import train_test_split\n",
    "from sklearn.preprocessing import StandardScaler\n",
    "import matplotlib.pyplot as plt\n",
    "import numpy as np\n",
    "from sklearn.metrics import accuracy_score, roc_curve, auc, roc_auc_score\n",
    "from sklearn.model_selection import KFold"
   ]
  },
  {
   "cell_type": "code",
   "execution_count": 3,
   "id": "protecting-edmonton",
   "metadata": {},
   "outputs": [],
   "source": [
    "new_train = pd.read_csv(\"../new_train.csv\")\n",
    "new_test = pd.read_csv(\"../new_test.csv\")"
   ]
  },
  {
   "cell_type": "code",
   "execution_count": 4,
   "id": "awful-beaver",
   "metadata": {},
   "outputs": [],
   "source": [
    "new_train.drop(new_train.filter(regex=\"Unname\"),axis=1, inplace=True)\n",
    "new_test.drop(new_test.filter(regex=\"Unname\"),axis=1, inplace=True)"
   ]
  },
  {
   "cell_type": "code",
   "execution_count": 5,
   "id": "blocked-update",
   "metadata": {},
   "outputs": [],
   "source": [
    "X = new_train.drop(columns=['bidder_id', 'payment_account', 'address', 'outcome','merchandise'])\n",
    "y = new_train['outcome']"
   ]
  },
  {
   "cell_type": "code",
   "execution_count": 6,
   "id": "superior-concept",
   "metadata": {},
   "outputs": [
    {
     "data": {
      "text/plain": [
       "52"
      ]
     },
     "execution_count": 6,
     "metadata": {},
     "output_type": "execute_result"
    }
   ],
   "source": [
    "len(X.columns)"
   ]
  },
  {
   "cell_type": "code",
   "execution_count": 7,
   "id": "applicable-spending",
   "metadata": {},
   "outputs": [
    {
     "data": {
      "text/plain": [
       "array([[-0.29839867, -0.34020786, -0.13219046, ..., -0.36967066,\n",
       "        -0.37052414,  2.16467791],\n",
       "       [-0.41452291, -0.40452956, -0.13438925, ..., -0.36967066,\n",
       "        -0.37052414,  0.73029739],\n",
       "       [-0.39403039, -0.40452956, -0.13428454, ..., -0.36967066,\n",
       "        -0.37052414,  0.73029739],\n",
       "       ...,\n",
       "       [-0.41452291, -0.40452956, -0.13449395, ..., -0.36967066,\n",
       "        -0.37052414, -0.70408314],\n",
       "       [-0.41452291, -0.4098897 , -0.13459866, ..., -0.36967066,\n",
       "        -0.37052414, -0.70408314],\n",
       "       [-0.41452291, -0.4098897 , -0.13449395, ..., -0.36967066,\n",
       "        -0.37052414, -0.70408314]])"
      ]
     },
     "execution_count": 7,
     "metadata": {},
     "output_type": "execute_result"
    }
   ],
   "source": [
    "scaler = StandardScaler()\n",
    "X_scaled = scaler.fit_transform(X)\n",
    "X_scaled"
   ]
  },
  {
   "cell_type": "code",
   "execution_count": 8,
   "id": "vulnerable-mobile",
   "metadata": {},
   "outputs": [],
   "source": [
    "sm = SMOTE()\n",
    "X_train, X_test, y_train, y_test = train_test_split(X_scaled, y, test_size=0.7, random_state=42)\n",
    "X_train_oversampled, y_train_oversampled = sm.fit_resample(X_train, y_train)"
   ]
  },
  {
   "cell_type": "code",
   "execution_count": 9,
   "id": "handmade-customs",
   "metadata": {},
   "outputs": [],
   "source": [
    "from sklearn.model_selection import RandomizedSearchCV\n",
    "\n",
    "#criterion for splitting\n",
    "criterion = ['gini', 'entropy']\n",
    "# Maximum number of levels in tree\n",
    "max_depth = [int(x) for x in np.linspace(10, 110, num = 11)]\n",
    "max_depth.append(None)\n",
    "# Minimum number of samples required to split a node\n",
    "min_samples_split = [1,2,5,8]\n",
    "# Minimum number of samples required at each leaf node\n",
    "min_samples_leaf = [1,11,21,31]\n",
    "# Number of features to consider at every split\n",
    "max_features = [5,10,15,25]\n",
    "#Node splitting criteria\n",
    "min_impurity_decrease = [0.00005,0.0005,0.005,0.05]\n",
    "# Create the random grid\n",
    "random_grid = {'criterion': criterion,\n",
    "               'max_depth': max_depth,\n",
    "               'min_samples_split': min_samples_split,\n",
    "               'max_features': max_features,\n",
    "               'min_samples_leaf': min_samples_leaf, \n",
    "               'min_impurity_decrease': min_impurity_decrease}\n",
    "# params = np.random.seed(0)"
   ]
  },
  {
   "cell_type": "code",
   "execution_count": 10,
   "id": "instant-giant",
   "metadata": {},
   "outputs": [],
   "source": [
    "def evaluate(model, test_features, test_labels):\n",
    "    predictions = model.predict_proba(test_features)\n",
    "    pred = model.predict(test_features)\n",
    "    \n",
    "    accuracy = accuracy_score(test_labels, pred)\n",
    "    auc_roc_score = roc_auc_score(test_labels,predictions[:,1])\n",
    "    \n",
    "    print('Model Performance')\n",
    "    print('Accuracy = {:0.2f}%.'.format(accuracy))\n",
    "    print('AUC ROC = {:0.2f}%.'.format(auc_roc_score))\n",
    "    \n",
    "    return accuracy, auc_roc_score\n"
   ]
  },
  {
   "cell_type": "code",
   "execution_count": 11,
   "id": "significant-treaty",
   "metadata": {},
   "outputs": [
    {
     "name": "stdout",
     "output_type": "stream",
     "text": [
      "Fitting 10 folds for each of 100 candidates, totalling 1000 fits\n"
     ]
    },
    {
     "name": "stderr",
     "output_type": "stream",
     "text": [
      "/Library/Frameworks/Python.framework/Versions/3.9/lib/python3.9/site-packages/sklearn/model_selection/_validation.py:372: FitFailedWarning: \n",
      "310 fits failed out of a total of 1000.\n",
      "The score on these train-test partitions for these parameters will be set to nan.\n",
      "If these failures are not expected, you can try to debug them by setting error_score='raise'.\n",
      "\n",
      "Below are more details about the failures:\n",
      "--------------------------------------------------------------------------------\n",
      "310 fits failed with the following error:\n",
      "Traceback (most recent call last):\n",
      "  File \"/Library/Frameworks/Python.framework/Versions/3.9/lib/python3.9/site-packages/sklearn/model_selection/_validation.py\", line 681, in _fit_and_score\n",
      "    estimator.fit(X_train, y_train, **fit_params)\n",
      "  File \"/Library/Frameworks/Python.framework/Versions/3.9/lib/python3.9/site-packages/sklearn/tree/_classes.py\", line 937, in fit\n",
      "    super().fit(\n",
      "  File \"/Library/Frameworks/Python.framework/Versions/3.9/lib/python3.9/site-packages/sklearn/tree/_classes.py\", line 250, in fit\n",
      "    raise ValueError(\n",
      "ValueError: min_samples_split must be an integer greater than 1 or a float in (0.0, 1.0]; got the integer 1\n",
      "\n",
      "  warnings.warn(some_fits_failed_message, FitFailedWarning)\n",
      "/Library/Frameworks/Python.framework/Versions/3.9/lib/python3.9/site-packages/sklearn/model_selection/_search.py:969: UserWarning: One or more of the test scores are non-finite: [0.89669306 0.84811365        nan 0.86842882 0.89667753 0.9373234\n",
      " 0.88786679        nan 0.90200279        nan 0.89669306 0.91967086\n",
      " 0.86843658        nan        nan        nan        nan 0.9373234\n",
      "        nan 0.87021425 0.87462351        nan 0.89759354 0.90374942\n",
      " 0.85253066 0.87547741        nan        nan 0.90195622        nan\n",
      " 0.85780158 0.83222326        nan 0.85515448 0.87196088 0.87374631\n",
      "        nan 0.83222326        nan 0.8763546  0.89049837        nan\n",
      "        nan 0.93996274 0.94790405 0.86049526 0.87371526        nan\n",
      " 0.85780158 0.84811365 0.8595715  0.84811365 0.89400714 0.85253066\n",
      "        nan 0.88871293        nan 0.85430057        nan 0.9178699\n",
      "        nan 0.84988356 0.89669306 0.95055892        nan 0.85515448\n",
      " 0.89139109 0.87196088        nan        nan        nan 0.88518864\n",
      " 0.90021736 0.86843658 0.90551933 0.92411116 0.86842882 0.83222326\n",
      "        nan 0.8896367  0.91437665        nan 0.85515448 0.88789008\n",
      " 0.89669306 0.91433784        nan        nan 0.89490762        nan\n",
      " 0.8896367  0.88787455 0.86843658 0.88520416 0.89400714 0.85780158\n",
      " 0.88786679 0.89490762 0.87282254 0.87196088]\n",
      "  warnings.warn(\n"
     ]
    },
    {
     "data": {
      "text/plain": [
       "RandomizedSearchCV(cv=StratifiedKFold(n_splits=10, random_state=None, shuffle=False),\n",
       "                   estimator=DecisionTreeClassifier(random_state=42),\n",
       "                   n_iter=100, n_jobs=-1,\n",
       "                   param_distributions={'criterion': ['gini', 'entropy'],\n",
       "                                        'max_depth': [10, 20, 30, 40, 50, 60,\n",
       "                                                      70, 80, 90, 100, 110,\n",
       "                                                      None],\n",
       "                                        'max_features': [5, 10, 15, 25],\n",
       "                                        'min_impurity_decrease': [5e-05, 0.0005,\n",
       "                                                                  0.005, 0.05],\n",
       "                                        'min_samples_leaf': [1, 11, 21, 31],\n",
       "                                        'min_samples_split': [1, 2, 5, 8]},\n",
       "                   random_state=42, verbose=2)"
      ]
     },
     "execution_count": 11,
     "metadata": {},
     "output_type": "execute_result"
    }
   ],
   "source": [
    "\n",
    "# Use the random grid to search for best hyperparameters\n",
    "# First create the base model to tune\n",
    "dt = DecisionTreeClassifier(random_state=42)\n",
    "# Random search of parameters, using 3 fold cross validation, \n",
    "# search across 1000 different combinations, and use all available cores\n",
    "kfold = StratifiedKFold(n_splits=10, shuffle = False)\n",
    "np.random.seed(0)\n",
    "dt_random = RandomizedSearchCV(estimator = dt, param_distributions = random_grid, n_iter = 100, cv = kfold, \n",
    "                               verbose=2, random_state=42, n_jobs = -1)\n",
    "# Fit the random search model\n",
    "dt_random.fit(X_train_oversampled,y_train_oversampled)"
   ]
  },
  {
   "cell_type": "code",
   "execution_count": 12,
   "id": "stable-greene",
   "metadata": {},
   "outputs": [
    {
     "data": {
      "text/plain": [
       "{'min_samples_split': 8,\n",
       " 'min_samples_leaf': 1,\n",
       " 'min_impurity_decrease': 0.0005,\n",
       " 'max_features': 25,\n",
       " 'max_depth': 50,\n",
       " 'criterion': 'gini'}"
      ]
     },
     "execution_count": 12,
     "metadata": {},
     "output_type": "execute_result"
    }
   ],
   "source": [
    "dt_random.best_params_"
   ]
  },
  {
   "cell_type": "code",
   "execution_count": 13,
   "id": "speaking-convention",
   "metadata": {},
   "outputs": [
    {
     "name": "stdout",
     "output_type": "stream",
     "text": [
      "Model Performance\n",
      "Accuracy = 0.92%.\n",
      "AUC ROC = 0.68%.\n",
      "Model Performance\n",
      "Accuracy = 0.94%.\n",
      "AUC ROC = 0.70%.\n"
     ]
    }
   ],
   "source": [
    "base_model = DecisionTreeClassifier(random_state = 42)\n",
    "base_model.fit(X_train_oversampled, y_train_oversampled)\n",
    "base_accuracy = evaluate(base_model, X_test, y_test)\n",
    "\n",
    "best_dt = dt_random.best_estimator_\n",
    "random_accuracy = evaluate(best_dt, X_test, y_test)"
   ]
  },
  {
   "cell_type": "code",
   "execution_count": 30,
   "id": "complimentary-aquatic",
   "metadata": {},
   "outputs": [],
   "source": [
    "from sklearn.model_selection import GridSearchCV\n",
    "# Create the parameter grid based on the results of random search \n",
    "param_grid = {'criterion': ['gini'],\n",
    "              'max_depth': [47, 50, 53],\n",
    "              'max_features': [23, 25, 27],\n",
    "              'min_impurity_decrease': [0.001, 0.004, 0.007],\n",
    "              'min_samples_leaf': [1, 2, 3],\n",
    "              'min_samples_split': [6, 8, 10]\n",
    "}\n",
    "dt = DecisionTreeClassifier()\n",
    "# Instantiate the grid search model\n",
    "kfold1 = StratifiedKFold(n_splits=10, shuffle = False)\n",
    "grid_search = GridSearchCV(estimator = dt, param_grid = param_grid, cv = kfold1, n_jobs = -1, verbose = 2)"
   ]
  },
  {
   "cell_type": "code",
   "execution_count": 31,
   "id": "physical-adams",
   "metadata": {},
   "outputs": [
    {
     "name": "stdout",
     "output_type": "stream",
     "text": [
      "Fitting 10 folds for each of 243 candidates, totalling 2430 fits\n"
     ]
    },
    {
     "data": {
      "text/plain": [
       "GridSearchCV(cv=StratifiedKFold(n_splits=10, random_state=None, shuffle=False),\n",
       "             estimator=DecisionTreeClassifier(), n_jobs=-1,\n",
       "             param_grid={'criterion': ['gini'], 'max_depth': [47, 50, 53],\n",
       "                         'max_features': [23, 25, 27],\n",
       "                         'min_impurity_decrease': [0.001, 0.004, 0.007],\n",
       "                         'min_samples_leaf': [1, 2, 3],\n",
       "                         'min_samples_split': [6, 8, 10]},\n",
       "             verbose=2)"
      ]
     },
     "execution_count": 31,
     "metadata": {},
     "output_type": "execute_result"
    }
   ],
   "source": [
    "grid_search.fit(X_train_oversampled,y_train_oversampled)"
   ]
  },
  {
   "cell_type": "code",
   "execution_count": 32,
   "id": "binary-volume",
   "metadata": {
    "scrolled": true
   },
   "outputs": [
    {
     "data": {
      "text/plain": [
       "{'criterion': 'gini',\n",
       " 'max_depth': 50,\n",
       " 'max_features': 23,\n",
       " 'min_impurity_decrease': 0.001,\n",
       " 'min_samples_leaf': 1,\n",
       " 'min_samples_split': 8}"
      ]
     },
     "execution_count": 32,
     "metadata": {},
     "output_type": "execute_result"
    }
   ],
   "source": [
    "grid_search.best_params_"
   ]
  },
  {
   "cell_type": "code",
   "execution_count": 33,
   "id": "celtic-profit",
   "metadata": {},
   "outputs": [
    {
     "name": "stdout",
     "output_type": "stream",
     "text": [
      "Model Performance\n",
      "Accuracy = 0.91%.\n",
      "AUC ROC = 0.71%.\n"
     ]
    }
   ],
   "source": [
    "best_grid = grid_search.best_estimator_\n",
    "grid_accuracy = evaluate(best_grid, X_test, y_test)"
   ]
  },
  {
   "cell_type": "code",
   "execution_count": 35,
   "id": "absent-iraqi",
   "metadata": {},
   "outputs": [],
   "source": [
    "data = {'Models': ['Base Decision Tree Model', 'Decision Tree with Random Search CV', 'Decision Tree with Grid Search'], \n",
    "        'Accuracy': [0.92, 0.94, 0.91], 'AUC ROC': [0.68, 0.70, 0.71]}\n",
    "results_df = pd.DataFrame(data = data)"
   ]
  },
  {
   "cell_type": "code",
   "execution_count": 36,
   "id": "selective-reggae",
   "metadata": {},
   "outputs": [
    {
     "data": {
      "text/html": [
       "<div>\n",
       "<style scoped>\n",
       "    .dataframe tbody tr th:only-of-type {\n",
       "        vertical-align: middle;\n",
       "    }\n",
       "\n",
       "    .dataframe tbody tr th {\n",
       "        vertical-align: top;\n",
       "    }\n",
       "\n",
       "    .dataframe thead th {\n",
       "        text-align: right;\n",
       "    }\n",
       "</style>\n",
       "<table border=\"1\" class=\"dataframe\">\n",
       "  <thead>\n",
       "    <tr style=\"text-align: right;\">\n",
       "      <th></th>\n",
       "      <th>Models</th>\n",
       "      <th>Accuracy</th>\n",
       "      <th>AUC ROC</th>\n",
       "    </tr>\n",
       "  </thead>\n",
       "  <tbody>\n",
       "    <tr>\n",
       "      <th>0</th>\n",
       "      <td>Base Decision Tree Model</td>\n",
       "      <td>0.92</td>\n",
       "      <td>0.68</td>\n",
       "    </tr>\n",
       "    <tr>\n",
       "      <th>1</th>\n",
       "      <td>Decision Tree with Random Search CV</td>\n",
       "      <td>0.94</td>\n",
       "      <td>0.70</td>\n",
       "    </tr>\n",
       "    <tr>\n",
       "      <th>2</th>\n",
       "      <td>Decision Tree with Grid Search</td>\n",
       "      <td>0.91</td>\n",
       "      <td>0.71</td>\n",
       "    </tr>\n",
       "  </tbody>\n",
       "</table>\n",
       "</div>"
      ],
      "text/plain": [
       "                                Models  Accuracy  AUC ROC\n",
       "0             Base Decision Tree Model      0.92     0.68\n",
       "1  Decision Tree with Random Search CV      0.94     0.70\n",
       "2       Decision Tree with Grid Search      0.91     0.71"
      ]
     },
     "execution_count": 36,
     "metadata": {},
     "output_type": "execute_result"
    }
   ],
   "source": [
    "results_df"
   ]
  },
  {
   "cell_type": "code",
   "execution_count": null,
   "id": "considerable-champagne",
   "metadata": {},
   "outputs": [],
   "source": []
  }
 ],
 "metadata": {
  "kernelspec": {
   "display_name": "Python 3",
   "language": "python",
   "name": "python3"
  },
  "language_info": {
   "codemirror_mode": {
    "name": "ipython",
    "version": 3
   },
   "file_extension": ".py",
   "mimetype": "text/x-python",
   "name": "python",
   "nbconvert_exporter": "python",
   "pygments_lexer": "ipython3",
   "version": "3.9.1"
  }
 },
 "nbformat": 4,
 "nbformat_minor": 5
}
