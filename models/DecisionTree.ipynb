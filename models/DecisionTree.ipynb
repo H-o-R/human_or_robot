{
 "cells": [
  {
   "cell_type": "code",
   "execution_count": 1,
   "id": "acting-thread",
   "metadata": {},
   "outputs": [],
   "source": [
    "from sklearn.tree import DecisionTreeClassifier\n",
    "from sklearn.model_selection import StratifiedKFold"
   ]
  },
  {
   "cell_type": "code",
   "execution_count": 2,
   "id": "variable-rubber",
   "metadata": {},
   "outputs": [],
   "source": [
    "import pandas as pd\n",
    "import sklearn\n",
    "from imblearn.over_sampling import SMOTE\n",
    "from sklearn.model_selection import train_test_split\n",
    "from sklearn.preprocessing import StandardScaler\n",
    "import matplotlib.pyplot as plt\n",
    "import numpy as np\n",
    "from sklearn.metrics import accuracy_score, roc_curve, auc, roc_auc_score\n",
    "from sklearn.model_selection import KFold"
   ]
  },
  {
   "cell_type": "code",
   "execution_count": 3,
   "id": "protecting-edmonton",
   "metadata": {},
   "outputs": [],
   "source": [
    "new_train = pd.read_csv(\"../new_train.csv\")\n",
    "new_test = pd.read_csv(\"../new_test.csv\")"
   ]
  },
  {
   "cell_type": "code",
   "execution_count": 4,
   "id": "awful-beaver",
   "metadata": {},
   "outputs": [],
   "source": [
    "new_train.drop(new_train.filter(regex=\"Unname\"),axis=1, inplace=True)\n",
    "new_test.drop(new_test.filter(regex=\"Unname\"),axis=1, inplace=True)"
   ]
  },
  {
   "cell_type": "code",
   "execution_count": 5,
   "id": "blocked-update",
   "metadata": {},
   "outputs": [],
   "source": [
    "X = new_train.drop(columns=['bidder_id', 'payment_account', 'address', 'outcome','merchandise'])\n",
    "y = new_train['outcome']"
   ]
  },
  {
   "cell_type": "code",
   "execution_count": 6,
   "id": "superior-concept",
   "metadata": {},
   "outputs": [
    {
     "data": {
      "text/plain": [
       "52"
      ]
     },
     "execution_count": 6,
     "metadata": {},
     "output_type": "execute_result"
    }
   ],
   "source": [
    "len(X.columns)"
   ]
  },
  {
   "cell_type": "code",
   "execution_count": 7,
   "id": "applicable-spending",
   "metadata": {},
   "outputs": [
    {
     "data": {
      "text/plain": [
       "array([[-0.29839867, -0.34020786, -0.13219046, ..., -0.36967066,\n",
       "        -0.37052414,  2.16467791],\n",
       "       [-0.41452291, -0.40452956, -0.13438925, ..., -0.36967066,\n",
       "        -0.37052414,  0.73029739],\n",
       "       [-0.39403039, -0.40452956, -0.13428454, ..., -0.36967066,\n",
       "        -0.37052414,  0.73029739],\n",
       "       ...,\n",
       "       [-0.41452291, -0.40452956, -0.13449395, ..., -0.36967066,\n",
       "        -0.37052414, -0.70408314],\n",
       "       [-0.41452291, -0.4098897 , -0.13459866, ..., -0.36967066,\n",
       "        -0.37052414, -0.70408314],\n",
       "       [-0.41452291, -0.4098897 , -0.13449395, ..., -0.36967066,\n",
       "        -0.37052414, -0.70408314]])"
      ]
     },
     "execution_count": 7,
     "metadata": {},
     "output_type": "execute_result"
    }
   ],
   "source": [
    "scaler = StandardScaler()\n",
    "X_scaled = scaler.fit_transform(X)\n",
    "X_scaled"
   ]
  },
  {
   "cell_type": "code",
   "execution_count": 8,
   "id": "vulnerable-mobile",
   "metadata": {},
   "outputs": [],
   "source": [
    "sm = SMOTE()\n",
    "X_train, X_test, y_train, y_test = train_test_split(X_scaled, y, test_size=0.7, random_state=42)\n",
    "X_train_oversampled, y_train_oversampled = sm.fit_resample(X_train, y_train)"
   ]
  },
  {
   "cell_type": "code",
   "execution_count": 9,
   "id": "handmade-customs",
   "metadata": {},
   "outputs": [],
   "source": [
    "from sklearn.model_selection import RandomizedSearchCV\n",
    "\n",
    "#criterion for splitting\n",
    "criterion = ['gini', 'entropy']\n",
    "# Maximum number of levels in tree\n",
    "max_depth = [int(x) for x in np.linspace(10, 110, num = 11)]\n",
    "max_depth.append(None)\n",
    "# Minimum number of samples required to split a node\n",
    "min_samples_split = [1,2,5,8]\n",
    "# Minimum number of samples required at each leaf node\n",
    "min_samples_leaf = [1,11,21,31]\n",
    "# Number of features to consider at every split\n",
    "max_features = [5,10,15,25]\n",
    "#Node splitting criteria\n",
    "min_impurity_decrease = [0.00005,0.0005,0.005,0.05]\n",
    "# Create the random grid\n",
    "random_grid = {'criterion': criterion,\n",
    "               'max_depth': max_depth,\n",
    "               'min_samples_split': min_samples_split,\n",
    "               'max_features': max_features,\n",
    "               'min_samples_leaf': min_samples_leaf, \n",
    "               'min_impurity_decrease': min_impurity_decrease}\n",
    "# params = np.random.seed(0)"
   ]
  },
  {
   "cell_type": "code",
   "execution_count": 10,
   "id": "instant-giant",
   "metadata": {},
   "outputs": [],
   "source": [
    "def evaluate(model, test_features, test_labels):\n",
    "    predictions = model.predict_proba(test_features)\n",
    "    pred = model.predict(test_features)\n",
    "    \n",
    "    accuracy = accuracy_score(test_labels, pred)\n",
    "    auc_roc_score = roc_auc_score(test_labels,predictions[:,1])\n",
    "    \n",
    "    print('Model Performance')\n",
    "    print('Accuracy = {:0.2f}%.'.format(accuracy))\n",
    "    print('AUC ROC = {:0.2f}%.'.format(auc_roc_score))\n",
    "    \n",
    "    return accuracy, auc_roc_score\n"
   ]
  },
  {
   "cell_type": "code",
   "execution_count": 11,
   "id": "significant-treaty",
   "metadata": {},
   "outputs": [
    {
     "name": "stdout",
     "output_type": "stream",
     "text": [
      "Fitting 10 folds for each of 100 candidates, totalling 1000 fits\n"
     ]
    },
    {
     "name": "stderr",
     "output_type": "stream",
     "text": [
      "/Library/Frameworks/Python.framework/Versions/3.9/lib/python3.9/site-packages/sklearn/model_selection/_validation.py:372: FitFailedWarning: \n",
      "310 fits failed out of a total of 1000.\n",
      "The score on these train-test partitions for these parameters will be set to nan.\n",
      "If these failures are not expected, you can try to debug them by setting error_score='raise'.\n",
      "\n",
      "Below are more details about the failures:\n",
      "--------------------------------------------------------------------------------\n",
      "310 fits failed with the following error:\n",
      "Traceback (most recent call last):\n",
      "  File \"/Library/Frameworks/Python.framework/Versions/3.9/lib/python3.9/site-packages/sklearn/model_selection/_validation.py\", line 681, in _fit_and_score\n",
      "    estimator.fit(X_train, y_train, **fit_params)\n",
      "  File \"/Library/Frameworks/Python.framework/Versions/3.9/lib/python3.9/site-packages/sklearn/tree/_classes.py\", line 937, in fit\n",
      "    super().fit(\n",
      "  File \"/Library/Frameworks/Python.framework/Versions/3.9/lib/python3.9/site-packages/sklearn/tree/_classes.py\", line 250, in fit\n",
      "    raise ValueError(\n",
      "ValueError: min_samples_split must be an integer greater than 1 or a float in (0.0, 1.0]; got the integer 1\n",
      "\n",
      "  warnings.warn(some_fits_failed_message, FitFailedWarning)\n",
      "/Library/Frameworks/Python.framework/Versions/3.9/lib/python3.9/site-packages/sklearn/model_selection/_search.py:969: UserWarning: One or more of the test scores are non-finite: [0.87989443 0.85432386        nan 0.87990995 0.90987424 0.93645397\n",
      " 0.86581276        nan 0.90548052        nan 0.87989443 0.90551933\n",
      " 0.8737696         nan        nan        nan        nan 0.94527247\n",
      "        nan 0.87990219 0.893161          nan 0.91170626 0.91702375\n",
      " 0.88610464 0.88965223        nan        nan 0.91790871        nan\n",
      " 0.87723956 0.85609377        nan 0.85959478 0.89759354 0.87465456\n",
      "        nan 0.85609377        nan 0.88161776 0.87019873        nan\n",
      "        nan 0.93643068 0.94524918 0.8808182  0.87900947        nan\n",
      " 0.87723956 0.85432386 0.8798789  0.85432386 0.87109145 0.88610464\n",
      "        nan 0.88607359        nan 0.87108368        nan 0.91958547\n",
      "        nan 0.85609377 0.87989443 0.94967396        nan 0.86047198\n",
      " 0.88699736 0.89759354        nan        nan        nan 0.87990995\n",
      " 0.90904363 0.8737696  0.90555038 0.91175283 0.87990995 0.85609377\n",
      "        nan 0.89934016 0.91083683        nan 0.86047198 0.88170315\n",
      " 0.87989443 0.92488744        nan        nan 0.90986648        nan\n",
      " 0.89934016 0.86492781 0.8737696  0.8923071  0.87643999 0.87723956\n",
      " 0.86581276 0.90725819 0.87463903 0.89759354]\n",
      "  warnings.warn(\n"
     ]
    },
    {
     "data": {
      "text/plain": [
       "RandomizedSearchCV(cv=StratifiedKFold(n_splits=10, random_state=None, shuffle=False),\n",
       "                   estimator=DecisionTreeClassifier(random_state=42),\n",
       "                   n_iter=100, n_jobs=-1,\n",
       "                   param_distributions={'criterion': ['gini', 'entropy'],\n",
       "                                        'max_depth': [10, 20, 30, 40, 50, 60,\n",
       "                                                      70, 80, 90, 100, 110,\n",
       "                                                      None],\n",
       "                                        'max_features': [5, 10, 15, 25],\n",
       "                                        'min_impurity_decrease': [5e-05, 0.0005,\n",
       "                                                                  0.005, 0.05],\n",
       "                                        'min_samples_leaf': [1, 11, 21, 31],\n",
       "                                        'min_samples_split': [1, 2, 5, 8]},\n",
       "                   random_state=42, verbose=2)"
      ]
     },
     "execution_count": 11,
     "metadata": {},
     "output_type": "execute_result"
    }
   ],
   "source": [
    "\n",
    "# Use the random grid to search for best hyperparameters\n",
    "# First create the base model to tune\n",
    "dt = DecisionTreeClassifier(random_state=42)\n",
    "# Random search of parameters, using 3 fold cross validation, \n",
    "# search across 1000 different combinations, and use all available cores\n",
    "kfold = StratifiedKFold(n_splits=10, shuffle = False)\n",
    "np.random.seed(0)\n",
    "dt_random = RandomizedSearchCV(estimator = dt, param_distributions = random_grid, n_iter = 100, cv = kfold, \n",
    "                               verbose=2, random_state=42, n_jobs = -1)\n",
    "# Fit the random search model\n",
    "dt_random.fit(X_train_oversampled,y_train_oversampled)"
   ]
  },
  {
   "cell_type": "code",
   "execution_count": 12,
   "id": "stable-greene",
   "metadata": {},
   "outputs": [
    {
     "data": {
      "text/plain": [
       "{'min_samples_split': 8,\n",
       " 'min_samples_leaf': 1,\n",
       " 'min_impurity_decrease': 0.0005,\n",
       " 'max_features': 25,\n",
       " 'max_depth': 50,\n",
       " 'criterion': 'gini'}"
      ]
     },
     "execution_count": 12,
     "metadata": {},
     "output_type": "execute_result"
    }
   ],
   "source": [
    "dt_random.best_params_"
   ]
  },
  {
   "cell_type": "code",
   "execution_count": 13,
   "id": "speaking-convention",
   "metadata": {},
   "outputs": [
    {
     "name": "stdout",
     "output_type": "stream",
     "text": [
      "Model Performance\n",
      "Accuracy = 0.93%.\n",
      "AUC ROC = 0.70%.\n",
      "Model Performance\n",
      "Accuracy = 0.93%.\n",
      "AUC ROC = 0.76%.\n"
     ]
    }
   ],
   "source": [
    "base_model = DecisionTreeClassifier(random_state = 42)\n",
    "base_model.fit(X_train_oversampled, y_train_oversampled)\n",
    "base_accuracy = evaluate(base_model, X_test, y_test)\n",
    "\n",
    "best_dt = dt_random.best_estimator_\n",
    "random_accuracy = evaluate(best_dt, X_test, y_test)"
   ]
  },
  {
   "cell_type": "code",
   "execution_count": 14,
   "id": "complimentary-aquatic",
   "metadata": {},
   "outputs": [],
   "source": [
    "from sklearn.model_selection import GridSearchCV\n",
    "# Create the parameter grid based on the results of random search \n",
    "param_grid = {'criterion': ['entropy'],\n",
    "              'max_depth': [70, 80, 90],\n",
    "              'max_features': [10, 15, 20],\n",
    "              'min_impurity_decrease': [0.001, 0.004, 0.007],\n",
    "              'min_samples_leaf': [1, 2, 3],\n",
    "              'min_samples_split': [1, 2, 3]\n",
    "}\n",
    "np.random.seed(0)\n",
    "dt = DecisionTreeClassifier()\n",
    "# Instantiate the grid search model\n",
    "kfold1 = StratifiedKFold(n_splits=10, shuffle = False)\n",
    "grid_search = GridSearchCV(estimator = dt, param_grid = param_grid, cv = kfold1, n_jobs = -1, verbose = 2)"
   ]
  },
  {
   "cell_type": "code",
   "execution_count": 15,
   "id": "physical-adams",
   "metadata": {},
   "outputs": [
    {
     "name": "stdout",
     "output_type": "stream",
     "text": [
      "Fitting 10 folds for each of 243 candidates, totalling 2430 fits\n"
     ]
    },
    {
     "name": "stderr",
     "output_type": "stream",
     "text": [
      "/Library/Frameworks/Python.framework/Versions/3.9/lib/python3.9/site-packages/sklearn/model_selection/_validation.py:372: FitFailedWarning: \n",
      "810 fits failed out of a total of 2430.\n",
      "The score on these train-test partitions for these parameters will be set to nan.\n",
      "If these failures are not expected, you can try to debug them by setting error_score='raise'.\n",
      "\n",
      "Below are more details about the failures:\n",
      "--------------------------------------------------------------------------------\n",
      "810 fits failed with the following error:\n",
      "Traceback (most recent call last):\n",
      "  File \"/Library/Frameworks/Python.framework/Versions/3.9/lib/python3.9/site-packages/sklearn/model_selection/_validation.py\", line 681, in _fit_and_score\n",
      "    estimator.fit(X_train, y_train, **fit_params)\n",
      "  File \"/Library/Frameworks/Python.framework/Versions/3.9/lib/python3.9/site-packages/sklearn/tree/_classes.py\", line 937, in fit\n",
      "    super().fit(\n",
      "  File \"/Library/Frameworks/Python.framework/Versions/3.9/lib/python3.9/site-packages/sklearn/tree/_classes.py\", line 250, in fit\n",
      "    raise ValueError(\n",
      "ValueError: min_samples_split must be an integer greater than 1 or a float in (0.0, 1.0]; got the integer 1\n",
      "\n",
      "  warnings.warn(some_fits_failed_message, FitFailedWarning)\n",
      "/Library/Frameworks/Python.framework/Versions/3.9/lib/python3.9/site-packages/sklearn/model_selection/_search.py:969: UserWarning: One or more of the test scores are non-finite: [       nan 0.93375252 0.92935103        nan 0.92938985 0.91963204\n",
      "        nan 0.93111318 0.93024375        nan 0.9302748  0.93908555\n",
      "        nan 0.93025151 0.93287533        nan 0.91877814 0.93469182\n",
      "        nan 0.9125524  0.91876261        nan 0.91613104 0.92673498\n",
      "        nan 0.92404906 0.91790095        nan 0.93815401 0.9320059\n",
      "        nan 0.93557677 0.92672722        nan 0.9223102  0.93113647\n",
      "        nan 0.9337991  0.93290638        nan 0.92322621 0.93733116\n",
      "        nan 0.93464524 0.92493402        nan 0.91879367 0.93469182\n",
      "        nan 0.93734669 0.92937432        nan 0.92054805 0.92582673\n",
      "        nan 0.9266884  0.93729235        nan 0.93112871 0.9355302\n",
      "        nan 0.91700047 0.94791958        nan 0.93376805 0.94177146\n",
      "        nan 0.93819283 0.9276277         nan 0.92848937 0.93284428\n",
      "        nan 0.91795529 0.93288309        nan 0.92494178 0.93907002\n",
      "        nan 0.9320059  0.9241034         nan 0.94351809 0.93909331\n",
      "        nan 0.92936656 0.94086322        nan 0.92491849 0.92139419\n",
      "        nan 0.92588107 0.92138643        nan 0.9143456  0.93993169\n",
      "        nan 0.90815867 0.92403354        nan 0.91170626 0.92317187\n",
      "        nan 0.92232573 0.92227915        nan 0.92054805 0.92402577\n",
      "        nan 0.93556901 0.94882006        nan 0.9240413  0.93286757\n",
      "        nan 0.92052476 0.93553796        nan 0.92498059 0.93378357\n",
      "        nan 0.93379134 0.934653          nan 0.93029809 0.9355923\n",
      "        nan 0.93199037 0.92758112        nan 0.92493402 0.91788542\n",
      "        nan 0.920517   0.93199814        nan 0.93025151 0.93821612\n",
      "        nan 0.93551467 0.92940537        nan 0.94352585 0.92586555\n",
      "        nan 0.94347151 0.9399705         nan 0.93379134 0.93823164\n",
      "        nan 0.93289862 0.9443487         nan 0.92937432 0.92758112\n",
      "        nan 0.92843503 0.93111318        nan 0.92496507 0.92054805\n",
      "        nan 0.93467629 0.93820835        nan 0.931152   0.92677379\n",
      "        nan 0.93195932 0.92141748        nan 0.93909331 0.93028256\n",
      "        nan 0.94080112 0.94083217        nan 0.91788542 0.93643844\n",
      "        nan 0.92230244 0.91876261        nan 0.90467319 0.91786213\n",
      "        nan 0.92321068 0.91441546        nan 0.93376029 0.93640739\n",
      "        nan 0.92494178 0.93025151        nan 0.92315634 0.93549915\n",
      "        nan 0.93993945 0.93820059        nan 0.92317963 0.92315634\n",
      "        nan 0.93112871 0.92586555        nan 0.91609998 0.91523055\n",
      "        nan 0.92228691 0.92320292        nan 0.91959323 0.92676603\n",
      "        nan 0.93996274 0.92938985        nan 0.92582673 0.92933551\n",
      "        nan 0.92403354 0.93026704        nan 0.94437975 0.93908555\n",
      "        nan 0.92050147 0.93820059        nan 0.92140196 0.92585002\n",
      "        nan 0.93995498 0.93376029        nan 0.92935103 0.93376029\n",
      "        nan 0.91958547 0.92406459]\n",
      "  warnings.warn(\n"
     ]
    },
    {
     "data": {
      "text/plain": [
       "GridSearchCV(cv=StratifiedKFold(n_splits=10, random_state=None, shuffle=False),\n",
       "             estimator=DecisionTreeClassifier(), n_jobs=-1,\n",
       "             param_grid={'criterion': ['entropy'], 'max_depth': [70, 80, 90],\n",
       "                         'max_features': [10, 15, 20],\n",
       "                         'min_impurity_decrease': [0.001, 0.004, 0.007],\n",
       "                         'min_samples_leaf': [1, 2, 3],\n",
       "                         'min_samples_split': [1, 2, 3]},\n",
       "             verbose=2)"
      ]
     },
     "execution_count": 15,
     "metadata": {},
     "output_type": "execute_result"
    }
   ],
   "source": [
    "grid_search.fit(X_train_oversampled,y_train_oversampled)"
   ]
  },
  {
   "cell_type": "code",
   "execution_count": 16,
   "id": "binary-volume",
   "metadata": {
    "scrolled": true
   },
   "outputs": [
    {
     "data": {
      "text/plain": [
       "{'criterion': 'entropy',\n",
       " 'max_depth': 80,\n",
       " 'max_features': 15,\n",
       " 'min_impurity_decrease': 0.001,\n",
       " 'min_samples_leaf': 1,\n",
       " 'min_samples_split': 3}"
      ]
     },
     "execution_count": 16,
     "metadata": {},
     "output_type": "execute_result"
    }
   ],
   "source": [
    "grid_search.best_params_"
   ]
  },
  {
   "cell_type": "code",
   "execution_count": 17,
   "id": "celtic-profit",
   "metadata": {},
   "outputs": [
    {
     "name": "stdout",
     "output_type": "stream",
     "text": [
      "Model Performance\n",
      "Accuracy = 0.92%.\n",
      "AUC ROC = 0.68%.\n"
     ]
    }
   ],
   "source": [
    "best_grid = grid_search.best_estimator_\n",
    "grid_accuracy = evaluate(best_grid, X_test, y_test)"
   ]
  },
  {
   "cell_type": "code",
   "execution_count": null,
   "id": "absent-iraqi",
   "metadata": {},
   "outputs": [],
   "source": []
  }
 ],
 "metadata": {
  "kernelspec": {
   "display_name": "Python 3",
   "language": "python",
   "name": "python3"
  },
  "language_info": {
   "codemirror_mode": {
    "name": "ipython",
    "version": 3
   },
   "file_extension": ".py",
   "mimetype": "text/x-python",
   "name": "python",
   "nbconvert_exporter": "python",
   "pygments_lexer": "ipython3",
   "version": "3.9.1"
  }
 },
 "nbformat": 4,
 "nbformat_minor": 5
}
